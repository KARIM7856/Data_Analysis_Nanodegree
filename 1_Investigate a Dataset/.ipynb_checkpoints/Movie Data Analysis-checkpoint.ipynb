{
 "cells": [
  {
   "cell_type": "markdown",
   "metadata": {},
   "source": [
    "> **Tip**: Welcome to the Investigate a Dataset project! You will find tips in quoted sections like this to help organize your approach to your investigation. Before submitting your project, it will be a good idea to go back through your report and remove these sections to make the presentation of your work as tidy as possible. First things first, you might want to double-click this Markdown cell and change the title so that it reflects your dataset and investigation.\n",
    "\n",
    "# Project: Movie Data Analysis\n",
    "\n",
    "## Table of Contents\n",
    "<ul>\n",
    "<li><a href=\"#intro\">Introduction</a></li>\n",
    "<li><a href=\"#wrangling\">Data Wrangling</a></li>\n",
    "<li><a href=\"#eda\">Exploratory Data Analysis</a></li>\n",
    "<li><a href=\"#conclusions\">Conclusions</a></li>\n",
    "</ul>"
   ]
  },
  {
   "cell_type": "markdown",
   "metadata": {},
   "source": [
    "<a id='intro'></a>\n",
    "## Introduction\n",
    "\n",
    "> **As an animation movies fan, I'll try to explore the TMDB movie data and find out how the production of animation movies changed through the years? also which actor contributed the most to this movies?.**"
   ]
  },
  {
   "cell_type": "markdown",
   "metadata": {},
   "source": [
    "# About the Data\n",
    "### TMDB movie data\n",
    "**The data set contains information about 10,000 movies collected from The Movie Database (TMDb), including user ratings and revenue.**\n",
    "\n",
    "Certain columns, like: \n",
    ">‘cast’ and ‘genres’, contain multiple values separated by pipe (|) characters.\n",
    "\n",
    ">There are some odd characters in the ‘cast’ column. Don’t worry about cleaning them. You can leave them as is.\n",
    "\n",
    ">The final two columns ending with “_adj” show the budget and revenue of the associated movie in terms of 2010 dollars, accounting for inflation over time.\n"
   ]
  },
  {
   "cell_type": "code",
   "execution_count": 1,
   "metadata": {},
   "outputs": [],
   "source": [
    "import pandas as pd\n",
    "import numpy as np\n",
    "import matplotlib.pyplot as plt\n",
    "import ipywidgets as widgets\n",
    "import matplotlib\n",
    "from collections import Counter\n",
    "import warnings\n",
    "\n",
    "plt.style.use('bmh')\n",
    "warnings.filterwarnings('ignore')\n",
    "\n",
    "%matplotlib notebook"
   ]
  },
  {
   "cell_type": "markdown",
   "metadata": {},
   "source": [
    "<a id='wrangling'></a>\n",
    "## Data Wrangling\n",
    "\n",
    "> **Tip**: In this section of the report, you will load in the data, check for cleanliness, and then trim and clean your dataset for analysis. Make sure that you document your steps carefully and justify your cleaning decisions.\n",
    "\n",
    "### General Properties"
   ]
  },
  {
   "cell_type": "code",
   "execution_count": 3,
   "metadata": {},
   "outputs": [
    {
     "data": {
      "text/html": [
       "<div>\n",
       "<style scoped>\n",
       "    .dataframe tbody tr th:only-of-type {\n",
       "        vertical-align: middle;\n",
       "    }\n",
       "\n",
       "    .dataframe tbody tr th {\n",
       "        vertical-align: top;\n",
       "    }\n",
       "\n",
       "    .dataframe thead th {\n",
       "        text-align: right;\n",
       "    }\n",
       "</style>\n",
       "<table border=\"1\" class=\"dataframe\">\n",
       "  <thead>\n",
       "    <tr style=\"text-align: right;\">\n",
       "      <th></th>\n",
       "      <th>id</th>\n",
       "      <th>imdb_id</th>\n",
       "      <th>popularity</th>\n",
       "      <th>budget</th>\n",
       "      <th>revenue</th>\n",
       "      <th>original_title</th>\n",
       "      <th>cast</th>\n",
       "      <th>homepage</th>\n",
       "      <th>director</th>\n",
       "      <th>tagline</th>\n",
       "      <th>...</th>\n",
       "      <th>overview</th>\n",
       "      <th>runtime</th>\n",
       "      <th>genres</th>\n",
       "      <th>production_companies</th>\n",
       "      <th>release_date</th>\n",
       "      <th>vote_count</th>\n",
       "      <th>vote_average</th>\n",
       "      <th>release_year</th>\n",
       "      <th>budget_adj</th>\n",
       "      <th>revenue_adj</th>\n",
       "    </tr>\n",
       "  </thead>\n",
       "  <tbody>\n",
       "    <tr>\n",
       "      <th>1947</th>\n",
       "      <td>32657</td>\n",
       "      <td>tt0814255</td>\n",
       "      <td>1.878018</td>\n",
       "      <td>95000000</td>\n",
       "      <td>226497209</td>\n",
       "      <td>Percy Jackson &amp; the Olympians: The Lightning T...</td>\n",
       "      <td>Logan Lerman|Brandon T. Jackson|Alexandra Dadd...</td>\n",
       "      <td>NaN</td>\n",
       "      <td>Chris Columbus</td>\n",
       "      <td>Worlds Collide</td>\n",
       "      <td>...</td>\n",
       "      <td>Accident prone teenager, Percy discovers he's ...</td>\n",
       "      <td>118</td>\n",
       "      <td>Adventure|Fantasy|Family</td>\n",
       "      <td>Ingenious Film Partners|1492 Pictures|Dune Ent...</td>\n",
       "      <td>2/1/10</td>\n",
       "      <td>1175</td>\n",
       "      <td>6.0</td>\n",
       "      <td>2010</td>\n",
       "      <td>9.500000e+07</td>\n",
       "      <td>226497209.0</td>\n",
       "    </tr>\n",
       "    <tr>\n",
       "      <th>9684</th>\n",
       "      <td>25155</td>\n",
       "      <td>tt0094035</td>\n",
       "      <td>0.221631</td>\n",
       "      <td>0</td>\n",
       "      <td>0</td>\n",
       "      <td>The Stepfather</td>\n",
       "      <td>Terry O'Quinn|Jill Schoelen|Shelley Hack|Charl...</td>\n",
       "      <td>NaN</td>\n",
       "      <td>Joseph Ruben</td>\n",
       "      <td>He wanted a perfect family in a perfect town. ...</td>\n",
       "      <td>...</td>\n",
       "      <td>A seemingly average man, after murdering his e...</td>\n",
       "      <td>89</td>\n",
       "      <td>Drama|Horror|Mystery|Thriller</td>\n",
       "      <td>Incorporated Television Company (ITC)</td>\n",
       "      <td>1/22/87</td>\n",
       "      <td>24</td>\n",
       "      <td>6.8</td>\n",
       "      <td>1987</td>\n",
       "      <td>0.000000e+00</td>\n",
       "      <td>0.0</td>\n",
       "    </tr>\n",
       "    <tr>\n",
       "      <th>7607</th>\n",
       "      <td>4520</td>\n",
       "      <td>tt0857265</td>\n",
       "      <td>0.401426</td>\n",
       "      <td>0</td>\n",
       "      <td>0</td>\n",
       "      <td>Sleuth</td>\n",
       "      <td>Jude Law|Michael Caine|Harold Pinter|Carmel O'...</td>\n",
       "      <td>http://www.sonyclassics.com/sleuth/</td>\n",
       "      <td>Kenneth Branagh</td>\n",
       "      <td>Obey the rules.</td>\n",
       "      <td>...</td>\n",
       "      <td>On his sprawling country estate, an aging writ...</td>\n",
       "      <td>86</td>\n",
       "      <td>Thriller</td>\n",
       "      <td>Sony Pictures Classics|Castle Rock Entertainme...</td>\n",
       "      <td>10/12/07</td>\n",
       "      <td>72</td>\n",
       "      <td>6.5</td>\n",
       "      <td>2007</td>\n",
       "      <td>0.000000e+00</td>\n",
       "      <td>0.0</td>\n",
       "    </tr>\n",
       "    <tr>\n",
       "      <th>6411</th>\n",
       "      <td>9968</td>\n",
       "      <td>tt0402850</td>\n",
       "      <td>0.317018</td>\n",
       "      <td>18000000</td>\n",
       "      <td>0</td>\n",
       "      <td>The Big White</td>\n",
       "      <td>Robin Williams|Holly Hunter|Tim Blake Nelson|W...</td>\n",
       "      <td>NaN</td>\n",
       "      <td>Mark Mylod</td>\n",
       "      <td>When you need somebody, anybody will do.</td>\n",
       "      <td>...</td>\n",
       "      <td>To remedy his financial problems, a travel age...</td>\n",
       "      <td>100</td>\n",
       "      <td>Comedy|Crime|Drama</td>\n",
       "      <td>Capitol Films|Ascendant Pictures|Rising Star|F...</td>\n",
       "      <td>10/27/05</td>\n",
       "      <td>40</td>\n",
       "      <td>6.2</td>\n",
       "      <td>2005</td>\n",
       "      <td>2.009814e+07</td>\n",
       "      <td>0.0</td>\n",
       "    </tr>\n",
       "    <tr>\n",
       "      <th>5061</th>\n",
       "      <td>10943</td>\n",
       "      <td>tt0294594</td>\n",
       "      <td>0.477180</td>\n",
       "      <td>0</td>\n",
       "      <td>0</td>\n",
       "      <td>The Gathering</td>\n",
       "      <td>Christina Ricci|Ioan Gruffudd|Stephen Dillane|...</td>\n",
       "      <td>NaN</td>\n",
       "      <td>Brian Gilbert</td>\n",
       "      <td>Evil Souls Rule</td>\n",
       "      <td>...</td>\n",
       "      <td>Cassie Grant (Christina Ricci) is a young girl...</td>\n",
       "      <td>92</td>\n",
       "      <td>Horror|Thriller</td>\n",
       "      <td>Granada Film Productions|Isle of Man Film|Isle...</td>\n",
       "      <td>2/23/03</td>\n",
       "      <td>14</td>\n",
       "      <td>5.0</td>\n",
       "      <td>2003</td>\n",
       "      <td>0.000000e+00</td>\n",
       "      <td>0.0</td>\n",
       "    </tr>\n",
       "  </tbody>\n",
       "</table>\n",
       "<p>5 rows × 21 columns</p>\n",
       "</div>"
      ],
      "text/plain": [
       "         id    imdb_id  popularity    budget    revenue  \\\n",
       "1947  32657  tt0814255    1.878018  95000000  226497209   \n",
       "9684  25155  tt0094035    0.221631         0          0   \n",
       "7607   4520  tt0857265    0.401426         0          0   \n",
       "6411   9968  tt0402850    0.317018  18000000          0   \n",
       "5061  10943  tt0294594    0.477180         0          0   \n",
       "\n",
       "                                         original_title  \\\n",
       "1947  Percy Jackson & the Olympians: The Lightning T...   \n",
       "9684                                     The Stepfather   \n",
       "7607                                             Sleuth   \n",
       "6411                                      The Big White   \n",
       "5061                                      The Gathering   \n",
       "\n",
       "                                                   cast  \\\n",
       "1947  Logan Lerman|Brandon T. Jackson|Alexandra Dadd...   \n",
       "9684  Terry O'Quinn|Jill Schoelen|Shelley Hack|Charl...   \n",
       "7607  Jude Law|Michael Caine|Harold Pinter|Carmel O'...   \n",
       "6411  Robin Williams|Holly Hunter|Tim Blake Nelson|W...   \n",
       "5061  Christina Ricci|Ioan Gruffudd|Stephen Dillane|...   \n",
       "\n",
       "                                 homepage         director  \\\n",
       "1947                                  NaN   Chris Columbus   \n",
       "9684                                  NaN     Joseph Ruben   \n",
       "7607  http://www.sonyclassics.com/sleuth/  Kenneth Branagh   \n",
       "6411                                  NaN       Mark Mylod   \n",
       "5061                                  NaN    Brian Gilbert   \n",
       "\n",
       "                                                tagline  ...  \\\n",
       "1947                                     Worlds Collide  ...   \n",
       "9684  He wanted a perfect family in a perfect town. ...  ...   \n",
       "7607                                    Obey the rules.  ...   \n",
       "6411           When you need somebody, anybody will do.  ...   \n",
       "5061                                    Evil Souls Rule  ...   \n",
       "\n",
       "                                               overview runtime  \\\n",
       "1947  Accident prone teenager, Percy discovers he's ...     118   \n",
       "9684  A seemingly average man, after murdering his e...      89   \n",
       "7607  On his sprawling country estate, an aging writ...      86   \n",
       "6411  To remedy his financial problems, a travel age...     100   \n",
       "5061  Cassie Grant (Christina Ricci) is a young girl...      92   \n",
       "\n",
       "                             genres  \\\n",
       "1947       Adventure|Fantasy|Family   \n",
       "9684  Drama|Horror|Mystery|Thriller   \n",
       "7607                       Thriller   \n",
       "6411             Comedy|Crime|Drama   \n",
       "5061                Horror|Thriller   \n",
       "\n",
       "                                   production_companies release_date  \\\n",
       "1947  Ingenious Film Partners|1492 Pictures|Dune Ent...       2/1/10   \n",
       "9684              Incorporated Television Company (ITC)      1/22/87   \n",
       "7607  Sony Pictures Classics|Castle Rock Entertainme...     10/12/07   \n",
       "6411  Capitol Films|Ascendant Pictures|Rising Star|F...     10/27/05   \n",
       "5061  Granada Film Productions|Isle of Man Film|Isle...      2/23/03   \n",
       "\n",
       "     vote_count  vote_average  release_year    budget_adj  revenue_adj  \n",
       "1947       1175           6.0          2010  9.500000e+07  226497209.0  \n",
       "9684         24           6.8          1987  0.000000e+00          0.0  \n",
       "7607         72           6.5          2007  0.000000e+00          0.0  \n",
       "6411         40           6.2          2005  2.009814e+07          0.0  \n",
       "5061         14           5.0          2003  0.000000e+00          0.0  \n",
       "\n",
       "[5 rows x 21 columns]"
      ]
     },
     "execution_count": 3,
     "metadata": {},
     "output_type": "execute_result"
    }
   ],
   "source": [
    "#loading movie data\n",
    "df = pd.read_csv('tmdb-movies.csv')\n",
    "df.sample(5)"
   ]
  },
  {
   "cell_type": "code",
   "execution_count": 3,
   "metadata": {},
   "outputs": [
    {
     "name": "stdout",
     "output_type": "stream",
     "text": [
      "DataFrame size = (10866, 21)\n",
      "<class 'pandas.core.frame.DataFrame'>\n",
      "RangeIndex: 10866 entries, 0 to 10865\n",
      "Data columns (total 21 columns):\n",
      " #   Column                Non-Null Count  Dtype  \n",
      "---  ------                --------------  -----  \n",
      " 0   id                    10866 non-null  int64  \n",
      " 1   imdb_id               10856 non-null  object \n",
      " 2   popularity            10866 non-null  float64\n",
      " 3   budget                10866 non-null  int64  \n",
      " 4   revenue               10866 non-null  int64  \n",
      " 5   original_title        10866 non-null  object \n",
      " 6   cast                  10790 non-null  object \n",
      " 7   homepage              2936 non-null   object \n",
      " 8   director              10822 non-null  object \n",
      " 9   tagline               8042 non-null   object \n",
      " 10  keywords              9373 non-null   object \n",
      " 11  overview              10862 non-null  object \n",
      " 12  runtime               10866 non-null  int64  \n",
      " 13  genres                10843 non-null  object \n",
      " 14  production_companies  9836 non-null   object \n",
      " 15  release_date          10866 non-null  object \n",
      " 16  vote_count            10866 non-null  int64  \n",
      " 17  vote_average          10866 non-null  float64\n",
      " 18  release_year          10866 non-null  int64  \n",
      " 19  budget_adj            10866 non-null  float64\n",
      " 20  revenue_adj           10866 non-null  float64\n",
      "dtypes: float64(4), int64(6), object(11)\n",
      "memory usage: 1.7+ MB\n",
      "None\n"
     ]
    }
   ],
   "source": [
    "print('DataFrame size =',df.shape) # inspecting the data frame size\n",
    "print(df.info())"
   ]
  },
  {
   "cell_type": "code",
   "execution_count": 4,
   "metadata": {},
   "outputs": [
    {
     "data": {
      "text/html": [
       "<div>\n",
       "<style scoped>\n",
       "    .dataframe tbody tr th:only-of-type {\n",
       "        vertical-align: middle;\n",
       "    }\n",
       "\n",
       "    .dataframe tbody tr th {\n",
       "        vertical-align: top;\n",
       "    }\n",
       "\n",
       "    .dataframe thead th {\n",
       "        text-align: right;\n",
       "    }\n",
       "</style>\n",
       "<table border=\"1\" class=\"dataframe\">\n",
       "  <thead>\n",
       "    <tr style=\"text-align: right;\">\n",
       "      <th></th>\n",
       "      <th>id</th>\n",
       "      <th>popularity</th>\n",
       "      <th>budget</th>\n",
       "      <th>revenue</th>\n",
       "      <th>runtime</th>\n",
       "      <th>vote_count</th>\n",
       "      <th>vote_average</th>\n",
       "      <th>release_year</th>\n",
       "      <th>budget_adj</th>\n",
       "      <th>revenue_adj</th>\n",
       "    </tr>\n",
       "  </thead>\n",
       "  <tbody>\n",
       "    <tr>\n",
       "      <th>count</th>\n",
       "      <td>10866.000000</td>\n",
       "      <td>10866.000000</td>\n",
       "      <td>1.086600e+04</td>\n",
       "      <td>1.086600e+04</td>\n",
       "      <td>10866.000000</td>\n",
       "      <td>10866.000000</td>\n",
       "      <td>10866.000000</td>\n",
       "      <td>10866.000000</td>\n",
       "      <td>1.086600e+04</td>\n",
       "      <td>1.086600e+04</td>\n",
       "    </tr>\n",
       "    <tr>\n",
       "      <th>mean</th>\n",
       "      <td>66064.177434</td>\n",
       "      <td>0.646441</td>\n",
       "      <td>1.462570e+07</td>\n",
       "      <td>3.982332e+07</td>\n",
       "      <td>102.070863</td>\n",
       "      <td>217.389748</td>\n",
       "      <td>5.974922</td>\n",
       "      <td>2001.322658</td>\n",
       "      <td>1.755104e+07</td>\n",
       "      <td>5.136436e+07</td>\n",
       "    </tr>\n",
       "    <tr>\n",
       "      <th>std</th>\n",
       "      <td>92130.136561</td>\n",
       "      <td>1.000185</td>\n",
       "      <td>3.091321e+07</td>\n",
       "      <td>1.170035e+08</td>\n",
       "      <td>31.381405</td>\n",
       "      <td>575.619058</td>\n",
       "      <td>0.935142</td>\n",
       "      <td>12.812941</td>\n",
       "      <td>3.430616e+07</td>\n",
       "      <td>1.446325e+08</td>\n",
       "    </tr>\n",
       "    <tr>\n",
       "      <th>min</th>\n",
       "      <td>5.000000</td>\n",
       "      <td>0.000065</td>\n",
       "      <td>0.000000e+00</td>\n",
       "      <td>0.000000e+00</td>\n",
       "      <td>0.000000</td>\n",
       "      <td>10.000000</td>\n",
       "      <td>1.500000</td>\n",
       "      <td>1960.000000</td>\n",
       "      <td>0.000000e+00</td>\n",
       "      <td>0.000000e+00</td>\n",
       "    </tr>\n",
       "    <tr>\n",
       "      <th>25%</th>\n",
       "      <td>10596.250000</td>\n",
       "      <td>0.207583</td>\n",
       "      <td>0.000000e+00</td>\n",
       "      <td>0.000000e+00</td>\n",
       "      <td>90.000000</td>\n",
       "      <td>17.000000</td>\n",
       "      <td>5.400000</td>\n",
       "      <td>1995.000000</td>\n",
       "      <td>0.000000e+00</td>\n",
       "      <td>0.000000e+00</td>\n",
       "    </tr>\n",
       "    <tr>\n",
       "      <th>50%</th>\n",
       "      <td>20669.000000</td>\n",
       "      <td>0.383856</td>\n",
       "      <td>0.000000e+00</td>\n",
       "      <td>0.000000e+00</td>\n",
       "      <td>99.000000</td>\n",
       "      <td>38.000000</td>\n",
       "      <td>6.000000</td>\n",
       "      <td>2006.000000</td>\n",
       "      <td>0.000000e+00</td>\n",
       "      <td>0.000000e+00</td>\n",
       "    </tr>\n",
       "    <tr>\n",
       "      <th>75%</th>\n",
       "      <td>75610.000000</td>\n",
       "      <td>0.713817</td>\n",
       "      <td>1.500000e+07</td>\n",
       "      <td>2.400000e+07</td>\n",
       "      <td>111.000000</td>\n",
       "      <td>145.750000</td>\n",
       "      <td>6.600000</td>\n",
       "      <td>2011.000000</td>\n",
       "      <td>2.085325e+07</td>\n",
       "      <td>3.369710e+07</td>\n",
       "    </tr>\n",
       "    <tr>\n",
       "      <th>max</th>\n",
       "      <td>417859.000000</td>\n",
       "      <td>32.985763</td>\n",
       "      <td>4.250000e+08</td>\n",
       "      <td>2.781506e+09</td>\n",
       "      <td>900.000000</td>\n",
       "      <td>9767.000000</td>\n",
       "      <td>9.200000</td>\n",
       "      <td>2015.000000</td>\n",
       "      <td>4.250000e+08</td>\n",
       "      <td>2.827124e+09</td>\n",
       "    </tr>\n",
       "  </tbody>\n",
       "</table>\n",
       "</div>"
      ],
      "text/plain": [
       "                  id    popularity        budget       revenue       runtime  \\\n",
       "count   10866.000000  10866.000000  1.086600e+04  1.086600e+04  10866.000000   \n",
       "mean    66064.177434      0.646441  1.462570e+07  3.982332e+07    102.070863   \n",
       "std     92130.136561      1.000185  3.091321e+07  1.170035e+08     31.381405   \n",
       "min         5.000000      0.000065  0.000000e+00  0.000000e+00      0.000000   \n",
       "25%     10596.250000      0.207583  0.000000e+00  0.000000e+00     90.000000   \n",
       "50%     20669.000000      0.383856  0.000000e+00  0.000000e+00     99.000000   \n",
       "75%     75610.000000      0.713817  1.500000e+07  2.400000e+07    111.000000   \n",
       "max    417859.000000     32.985763  4.250000e+08  2.781506e+09    900.000000   \n",
       "\n",
       "         vote_count  vote_average  release_year    budget_adj   revenue_adj  \n",
       "count  10866.000000  10866.000000  10866.000000  1.086600e+04  1.086600e+04  \n",
       "mean     217.389748      5.974922   2001.322658  1.755104e+07  5.136436e+07  \n",
       "std      575.619058      0.935142     12.812941  3.430616e+07  1.446325e+08  \n",
       "min       10.000000      1.500000   1960.000000  0.000000e+00  0.000000e+00  \n",
       "25%       17.000000      5.400000   1995.000000  0.000000e+00  0.000000e+00  \n",
       "50%       38.000000      6.000000   2006.000000  0.000000e+00  0.000000e+00  \n",
       "75%      145.750000      6.600000   2011.000000  2.085325e+07  3.369710e+07  \n",
       "max     9767.000000      9.200000   2015.000000  4.250000e+08  2.827124e+09  "
      ]
     },
     "execution_count": 4,
     "metadata": {},
     "output_type": "execute_result"
    }
   ],
   "source": [
    "df.describe()"
   ]
  },
  {
   "cell_type": "markdown",
   "metadata": {},
   "source": [
    "### Data Cleaning\n",
    "\n",
    "**looking at the data info I found that:**\n",
    "\n",
    "> Homepage, tagline and keywords having alot of missing data. I won't need thoes columns.\n",
    "\n",
    "> There is some missing data in most of the columns\n",
    "\n",
    "> Release date is not in the best format need to change into datetime\n",
    "\n",
    "> columns with multiple values need to spread for more insights\n",
    "\n",
    "> Missing data in budget, revenue, budget_adj and revenue_adj donated as zeros"
   ]
  },
  {
   "cell_type": "code",
   "execution_count": 5,
   "metadata": {},
   "outputs": [],
   "source": [
    "#Addressing the columns to be droped\n",
    "movies_df = df.copy() # making copy of the dataset\n",
    "drop_columns = ['homepage','tagline','id','imdb_id','keywords'] # columns that I don't need\n",
    "movies_df.drop(labels = drop_columns,axis=1,inplace=True); # dropping columns from the dataset"
   ]
  },
  {
   "cell_type": "code",
   "execution_count": 6,
   "metadata": {},
   "outputs": [],
   "source": [
    "#cast,director,overview,genres,and production_companies colums has missing data\n",
    "movies_df.dropna(inplace=True)"
   ]
  },
  {
   "cell_type": "code",
   "execution_count": 7,
   "metadata": {},
   "outputs": [],
   "source": [
    "#changing data type of release date column\n",
    "movies_df.release_date = pd.to_datetime(movies_df.release_date)"
   ]
  },
  {
   "cell_type": "code",
   "execution_count": 12,
   "metadata": {},
   "outputs": [],
   "source": [
    "#genres and cast and production_companies have multi-values \n",
    "#I will spread these values in multiple columns indicating 1 if single value is present and 0 if absent\n",
    "\n",
    "#manipulating genres values\n",
    "mixed_genres = movies_df.genres.unique()\n",
    "\n",
    "'''\n",
    "first attempt to create genres set:\n",
    "\n",
    "genres_clean = set()\n",
    "for i in mixed_genres:\n",
    "    if '|' in i:\n",
    "        lis = i.split('|')\n",
    "        for x in lis:\n",
    "            genres_clean.add(x)\n",
    "            \n",
    "    else:\n",
    "        genres_clean.add(i)\n",
    "\n",
    "'''\n",
    "genres_clean = set(x for i in mixed_genres for x in i.split('|'))#creating a set contain all the single genre in the dataset\n",
    "#creating columns for every single genre in dataset and assign values for each movie\n",
    "for gen in sorted(genres_clean):\n",
    "    movies_df[gen] = movies_df.genres.apply(lambda x:1 if gen.lower() in x.lower() else 0);\n"
   ]
  },
  {
   "cell_type": "code",
   "execution_count": 13,
   "metadata": {},
   "outputs": [],
   "source": [
    "#manipulating cast values\n",
    "mixed_cast = movies_df.cast.unique()\n",
    "cast_clean = [x for i in mixed_cast for x in i.split('|')]#creating a set contain all the single cast in the dataset\n",
    "\n",
    "#cast_clean contain 17124 actor, since that will be huge number byond the scope of this assignment \n",
    "#I will use top 9 frequent actors\n",
    "actors_count = Counter(cast_clean)\n",
    "top9_actors = [actor[0] for actor in actors_count.most_common()[:9]]\n",
    "\n",
    "#creating columns for every actor\n",
    "for actor in top9_actors:\n",
    "    movies_df[actor] = movies_df.cast.apply(lambda x:1 if actor.lower() in x.lower() else 0 )"
   ]
  },
  {
   "cell_type": "markdown",
   "metadata": {},
   "source": [
    "<a id='eda'></a>\n",
    "## Exploratory Data Analysis\n",
    "\n",
    "> **Tip**: Now that you've trimmed and cleaned your data, you're ready to move on to exploration. Compute statistics and create visualizations with the goal of addressing the research questions that you posed in the Introduction section. It is recommended that you be systematic with your approach. Look at one variable at a time, and then follow it up by looking at relationships between variables."
   ]
  },
  {
   "cell_type": "markdown",
   "metadata": {},
   "source": [
    "# Q1.How  production of Animation genre changed through 1960-2015 period?\n",
    "\n",
    "\n"
   ]
  },
  {
   "cell_type": "code",
   "execution_count": 14,
   "metadata": {},
   "outputs": [],
   "source": [
    "# Use this, and more code cells, to explore your data. Don't forget to add\n",
    "#   Markdown cells to document your observations and findings.\n",
    "\n",
    "year_gen_movies = movies_df.groupby('release_year').sum().iloc[:,8:28] # chooseing columns with genres only\n",
    "year_gen_movies['Total'] = year_gen_movies.sum(axis=1) # creating a total column to caluclate percentage of each genre\n",
    "year_gen_movies = year_gen_movies.div(year_gen_movies.Total,axis=0).multiply(100,axis=0) # changing columns value to percentage"
   ]
  },
  {
   "cell_type": "markdown",
   "metadata": {},
   "source": [
    "    "
   ]
  },
  {
   "cell_type": "markdown",
   "metadata": {},
   "source": [
    "**First thing I would likt to see how the percentage of animation movies to the total movies for each year changes.**\n",
    "\n",
    "**for that I will explore the data with line graph for animation movies percentages (y-axis) compared with production year(x-axis)**"
   ]
  },
  {
   "cell_type": "markdown",
   "metadata": {},
   "source": [
    "    "
   ]
  },
  {
   "cell_type": "code",
   "execution_count": 27,
   "metadata": {},
   "outputs": [
    {
     "data": {
      "application/vnd.jupyter.widget-view+json": {
       "model_id": "25589139e70a48bbb66f951abccdf141",
       "version_major": 2,
       "version_minor": 0
      },
      "text/plain": [
       "interactive(children=(Dropdown(description='Genre1', index=2, options=('Action', 'Adventure', 'Animation', 'Co…"
      ]
     },
     "metadata": {},
     "output_type": "display_data"
    },
    {
     "data": {
      "text/plain": [
       "<function __main__.line_analysis(value)>"
      ]
     },
     "execution_count": 27,
     "metadata": {},
     "output_type": "execute_result"
    }
   ],
   "source": [
    "\n",
    "#Creating dropdown menu to choose which genre will be graphed\n",
    "dropdown_line = widgets.Dropdown(options=sorted(list(genres_clean)), value='Animation', description= 'Genre1',)\n",
    "\n",
    "\n",
    "def line_analysis(value):\n",
    "    plt.figure()# new figuer\n",
    "    y = year_gen_movies.loc[:,value] # getting appropriate column to plot\n",
    "\n",
    "    y.plot(title= f'{value} Movies') # plotting column\n",
    "    ax.set_ylabel('Percentage %')\n",
    "\n",
    "widgets.interact(line_analysis, value=dropdown_line) # creating interactive plot"
   ]
  },
  {
   "cell_type": "markdown",
   "metadata": {},
   "source": [
    "    "
   ]
  },
  {
   "cell_type": "markdown",
   "metadata": {},
   "source": [
    "**As the plot shows there could be an increase of the animation movie production happening thorugh out the years**"
   ]
  },
  {
   "cell_type": "markdown",
   "metadata": {},
   "source": [
    "    "
   ]
  },
  {
   "cell_type": "markdown",
   "metadata": {},
   "source": [
    "### Also given the data that we have I would like to explore the frequency of the animation movie compared to other genres.\n",
    "\n",
    "**for that I will plot histogram for animation movies and see which percentage does it takes the most**"
   ]
  },
  {
   "cell_type": "markdown",
   "metadata": {},
   "source": [
    "    "
   ]
  },
  {
   "cell_type": "code",
   "execution_count": 17,
   "metadata": {},
   "outputs": [
    {
     "data": {
      "application/vnd.jupyter.widget-view+json": {
       "model_id": "5dd092e207784ba79e155d09dcb5c361",
       "version_major": 2,
       "version_minor": 0
      },
      "text/plain": [
       "interactive(children=(Dropdown(description='Genre1', index=2, options=('Action', 'Adventure', 'Animation', 'Co…"
      ]
     },
     "metadata": {},
     "output_type": "display_data"
    },
    {
     "data": {
      "text/plain": [
       "<function __main__.hist_analysis(value)>"
      ]
     },
     "execution_count": 17,
     "metadata": {},
     "output_type": "execute_result"
    }
   ],
   "source": [
    "dropdown_hist = widgets.Dropdown(options=sorted(list(genres_clean)), value='Animation', description= 'Genre1',)\n",
    "\n",
    "def hist_analysis(value):\n",
    "    fig,ax = plt.subplots()\n",
    "    y = year_gen_movies.loc[:,value] # getting appropriate column to plot\n",
    "    \n",
    "    ax.hist(y)\n",
    "    ax.set_title(f'{value} Movies Histogram')\n",
    "    ax.set_ylabel('Frequency')\n",
    "    ax.set_xlabel('Percentage')\n",
    "\n",
    "widgets.interact(hist_analysis, value=dropdown_hist) # creating interactive plot"
   ]
  },
  {
   "cell_type": "markdown",
   "metadata": {},
   "source": [
    "    "
   ]
  },
  {
   "cell_type": "markdown",
   "metadata": {},
   "source": [
    "#### Given what we have, it appears that animation movies peaked at 1% and 3% which indecate that it is still not very popular among other genres"
   ]
  },
  {
   "cell_type": "markdown",
   "metadata": {},
   "source": [
    "    "
   ]
  },
  {
   "cell_type": "markdown",
   "metadata": {},
   "source": [
    "# Q2. Which actor from the top 9 actors particibate in animation movies more and what is the average of vote for movies he particibate in?"
   ]
  },
  {
   "cell_type": "code",
   "execution_count": 18,
   "metadata": {},
   "outputs": [],
   "source": [
    "cast_df = movies_df.copy() # creating copy of dataframe\n",
    "cast_df = cast_df[(cast_df['budget_adj'] != 0) & (cast_df['revenue_adj'] != 0) ] # chooseing only datat where budget_adj and revenue_adj are non zeros\n",
    "cast_df['movies_profit'] = cast_df['revenue_adj'] - cast_df['budget_adj'] # creating profit column"
   ]
  },
  {
   "cell_type": "code",
   "execution_count": 20,
   "metadata": {},
   "outputs": [],
   "source": [
    "# creating unique dataframe containg data average for each actor individually\n",
    "top9_actors_stat = pd.DataFrame()\n",
    "for actor in top9_actors:\n",
    "    _ = cast_df[cast_df[actor] == 1]\n",
    "    _['movies_count'] = _.shape[0]/2\n",
    "    top9_actors_stat[actor] = pd.Series(_.mean(),name=actor)"
   ]
  },
  {
   "cell_type": "markdown",
   "metadata": {},
   "source": [
    "    "
   ]
  },
  {
   "cell_type": "markdown",
   "metadata": {},
   "source": [
    "**Plotting bar graph for each actor against the percentage of animation movies of total movies he made, will help me to investigate which actor contributes for animation movies the most from top 9 list I made**"
   ]
  },
  {
   "cell_type": "markdown",
   "metadata": {},
   "source": [
    "    "
   ]
  },
  {
   "cell_type": "code",
   "execution_count": 21,
   "metadata": {},
   "outputs": [
    {
     "data": {
      "image/png": "[encoded data removed]",
      "text/plain": [
       "<Figure size 432x288 with 1 Axes>"
      ]
     },
     "metadata": {
      "needs_background": "light"
     },
     "output_type": "display_data"
    }
   ],
   "source": [
    "#Plotting percentage of animation movies that actor participate in\n",
    "plt.figure() # creating plot figure\n",
    "animation_series = top9_actors_stat.T.loc[:,'Animation'].multiply(100) # getting only series object for animation movies only\n",
    "#plotting series\n",
    "ax = animation_series.plot.bar()\n",
    "x_ticks = list(animation_series.index) # collecting x label for each bar in a list\n",
    "ax.set_title('Animation Movies')\n",
    "ax.set_ylabel('Percentage %')\n",
    "ax.set_yticks(range(0,25,4))\n",
    "ax.set_xticklabels(x_ticks, rotation = 45)\n",
    "\n",
    "plt.tight_layout()\n",
    "# labeling each bar with the corresponding value\n",
    "for i, label in enumerate(list(animation_series.index)):\n",
    "    score = animation_series[i]\n",
    "    ax.annotate(str(round(score,3)), (i, score+0.002))"
   ]
  },
  {
   "cell_type": "markdown",
   "metadata": {},
   "source": [
    "    "
   ]
  },
  {
   "cell_type": "markdown",
   "metadata": {},
   "source": [
    "**From the graph we find that about 20% of John Goodman movies are animation movies having the highst percentage among other actors**"
   ]
  },
  {
   "cell_type": "markdown",
   "metadata": {},
   "source": [
    "    "
   ]
  },
  {
   "cell_type": "markdown",
   "metadata": {},
   "source": [
    "**Next I would like to compare movies average profit which each actor casted in with each other**"
   ]
  },
  {
   "cell_type": "markdown",
   "metadata": {},
   "source": [
    "    "
   ]
  },
  {
   "cell_type": "code",
   "execution_count": 23,
   "metadata": {
    "scrolled": false
   },
   "outputs": [
    {
     "data": {
      "image/png": "[encoded data removed]",
      "text/plain": [
       "<Figure size 504x432 with 1 Axes>"
      ]
     },
     "metadata": {
      "needs_background": "light"
     },
     "output_type": "display_data"
    }
   ],
   "source": [
    "# plotting average profit of movies participated by each actor\n",
    "plt.figure()\n",
    "animation_series = top9_actors_stat.T.loc[:,'movies_profit'].sort_values(ascending=False)\n",
    "ax = animation_series.plot.bar(title='Average Movies Profit',rot=45,figsize=(7,6),stacked=True,\n",
    "                               fontsize=8,)\n",
    "ax.set_ylabel('USD (x10^8)')\n",
    "ax.grid(False)\n",
    "plt.tight_layout()"
   ]
  },
  {
   "cell_type": "markdown",
   "metadata": {},
   "source": [
    "    "
   ]
  },
  {
   "cell_type": "markdown",
   "metadata": {},
   "source": [
    "**Doing so we can find that John Goodman moives profit came fith to other actors**"
   ]
  },
  {
   "cell_type": "markdown",
   "metadata": {},
   "source": [
    "    "
   ]
  },
  {
   "cell_type": "markdown",
   "metadata": {},
   "source": [
    "**More insights can be down with more analysis to the data and here I'll try to compare two variables with each other and see what can we conclude if any.**"
   ]
  },
  {
   "cell_type": "markdown",
   "metadata": {},
   "source": [
    "    "
   ]
  },
  {
   "cell_type": "code",
   "execution_count": 24,
   "metadata": {},
   "outputs": [],
   "source": [
    "# making genres data percentage form 0.12 --> 12%\n",
    "top9_actors_stat.loc[genres_clean] = top9_actors_stat.loc[genres_clean]*10\n",
    "\n",
    "#choosing compararple columns with close data ranges\n",
    "plt_columns = ['popularity','vote_average','Action',\n",
    "       'Adventure', 'Animation', 'Comedy', 'Crime', 'Documentary', 'Drama',\n",
    "       'Family', 'Fantasy', 'Foreign', 'History', 'Horror', 'Music', 'Mystery',\n",
    "       'Romance', 'Science Fiction', 'TV Movie', 'Thriller', 'War', 'Western','movies_count']\n",
    "\n",
    "# creating dictionary for y-axis labels\n",
    "y_axis_labels = {'genres':'Percentage % (x10)' , 'popularity' : 'Popularity Mean', 'vote_average' : 'Vote Averages',\n",
    "                    'movies_count' : 'Movies Count * 2'}"
   ]
  },
  {
   "cell_type": "code",
   "execution_count": 26,
   "metadata": {
    "scrolled": false
   },
   "outputs": [
    {
     "data": {
      "application/vnd.jupyter.widget-view+json": {
       "model_id": "b9a3c6c1f69448fda1a26037a2db1f37",
       "version_major": 2,
       "version_minor": 0
      },
      "text/plain": [
       "interactive(children=(Dropdown(description='Atribute1', index=4, options=('popularity', 'vote_average', 'Actio…"
      ]
     },
     "metadata": {},
     "output_type": "display_data"
    }
   ],
   "source": [
    "#creating two attributes dropdown menus\n",
    "Atribute1 = widgets.Dropdown(options= plt_columns, value='Animation', description= 'Atribute1')\n",
    "Atribute2 = widgets.Dropdown(options= plt_columns, value='Action', description= 'Atribute2')\n",
    "\n",
    "def getting_y_label(v1,v2):\n",
    "    global label1\n",
    "    global label2\n",
    "    \n",
    "    if v1 in genres_clean:\n",
    "        label1 = y_axis_labels['genres']\n",
    "    else:\n",
    "        label1 = y_axis_labels[v1]\n",
    "        \n",
    "    if v2 in genres_clean:\n",
    "        label2 = y_axis_labels['genres']\n",
    "        \n",
    "    else:\n",
    "        label2 = y_axis_labels[v2]\n",
    "    return label1,label2\n",
    "\n",
    "def Dropdown_Menu(value1,value2):\n",
    "    \n",
    "    y = top9_actors_stat.loc[[value1,value2]] # getting appropriate column to plot\n",
    "    \n",
    "    #getting appropriate y-axis label for each value\n",
    "    y1_label,y2_label = getting_y_label(value1,value2)\n",
    "        \n",
    "    \n",
    "    ax1 = y.plot(kind='bar',rot=0,fontsize=20,\n",
    "          title=f'{value1.capitalize()} and {value2.capitalize()} Graph',figsize=(8,6)) # plotting column\n",
    "    \n",
    "    ax1.set_ylabel(y1_label)\n",
    "    \n",
    "    ax2 = ax1.twinx()\n",
    "    ax2.set_ylabel(y2_label)\n",
    "    ax2.set_yticks([])\n",
    "widgets.interact(Dropdown_Menu, value1=Atribute1,value2=Atribute2)\n",
    "plt.show()"
   ]
  },
  {
   "cell_type": "markdown",
   "metadata": {},
   "source": [
    "    "
   ]
  },
  {
   "cell_type": "markdown",
   "metadata": {},
   "source": [
    "**The animation percentage bars and the action percentage bars look strangely like a mirror. We can't coclude any thing with just a graph like that since there are many variable can influnce this but it may be there is a relation that actors that acts in more action movies won't act on animation movies. Unfortunatly we can't investigate this furthur with such small data with small actors**"
   ]
  },
  {
   "cell_type": "markdown",
   "metadata": {},
   "source": [
    "    "
   ]
  },
  {
   "cell_type": "markdown",
   "metadata": {},
   "source": [
    "<a id='conclusions'></a>\n",
    "# Conclusions"
   ]
  },
  {
   "cell_type": "markdown",
   "metadata": {
    "collapsed": true
   },
   "source": [
    "# Q1\n",
    "\n",
    "**Many movie's genres show changes over the period of time we analysis like**\n",
    "\n",
    "> Animation, Documentary and Thriller which show an increasing percentage of the production\n",
    "\n",
    "> History, Romance and Western which show a decreasing percentage of the production"
   ]
  },
  {
   "cell_type": "markdown",
   "metadata": {},
   "source": [
    "# Q2\n",
    "**Unfortunately some of the 'revenue_adj and 'budget_adj' columns contain zeros entry so I had excluded them \n",
    "which result in a huge decrease in the data set from 9773 to 3806 entries that had high empact on the number of movies for each actor which limits my findings. That been said, while the true numbers is not very good indicator but we can rely on the difference between the actors, so we can conclude that:**\n",
    "\n",
    "> 1- John Goodman was the highest actor to cast in animation movie with about 20% of his movies been animation\n",
    "\n",
    ">  2- John Goodman came fifth by the average amount of his movies profit\n"
   ]
  }
 ],
 "metadata": {
  "kernelspec": {
   "display_name": "Python 3",
   "language": "python",
   "name": "python3"
  },
  "language_info": {
   "codemirror_mode": {
    "name": "ipython",
    "version": 3
   },
   "file_extension": ".py",
   "mimetype": "text/x-python",
   "name": "python",
   "nbconvert_exporter": "python",
   "pygments_lexer": "ipython3",
   "version": "3.6.4"
  }
 },
 "nbformat": 4,
 "nbformat_minor": 2
}
